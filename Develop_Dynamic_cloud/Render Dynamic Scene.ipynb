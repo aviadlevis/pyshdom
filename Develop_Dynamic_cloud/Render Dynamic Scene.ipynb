{
 "cells": [
  {
   "cell_type": "code",
   "execution_count": 70,
   "outputs": [],
   "source": [
    "\"\"\"\n",
    "Imports necessary for this notebook\n",
    "\"\"\"\n",
    "import matplotlib.pyplot as plt\n",
    "import numpy as np\n",
    "import pandas as pd\n",
    "import glob\n",
    "import shdom\n",
    "\n"
   ],
   "metadata": {
    "collapsed": false,
    "pycharm": {
     "name": "#%%\n",
     "is_executing": false
    }
   }
  },
  {
   "cell_type": "code",
   "execution_count": 71,
   "outputs": [],
   "source": [
    "def calccenterofmass(droplets):\n",
    "    lwc = droplets.lwc.data\n",
    "    mx = np.sum(np.sum(lwc,2),1)\n",
    "    my = np.sum(np.sum(lwc,2),0)\n",
    "    mz = np.sum(np.sum(lwc,0),0)\n",
    "    com_x = sum(mx * droplets.grid.x)/sum(mx)\n",
    "    com_y = sum(my * droplets.grid.y)/sum(my)\n",
    "    com_z = sum(mz * droplets.grid.z)/sum(mz)\n",
    "    return com_x, com_y, com_z\n",
    "\n",
    "def projection_split(projections, n_parts):\n",
    "    avg = len(projections.projection_list) / float(n_parts)\n",
    "    out = []\n",
    "    last = 0.0\n",
    "\n",
    "    while last < len(projections.projection_list):\n",
    "        out.append(shdom.MultiViewProjection(projections.projection_list[int(last):int(last + avg)]))\n",
    "        last += avg\n",
    "\n",
    "    return out"
   ],
   "metadata": {
    "collapsed": false,
    "pycharm": {
     "name": "#%%\n",
     "is_executing": false
    }
   }
  },
  {
   "cell_type": "code",
   "execution_count": 72,
   "outputs": [],
   "source": [
    "\"\"\"\n",
    "Set settings\n",
    "\"\"\"\n",
    "#355, 380, 445, 470, 555, 660, 865, 935\n",
    "wavelengths = [0.672]\n",
    "vel_cloud = np.array([0.0,0.0,0.0]) # m/s\n",
    "vel_camera = 45 # m/s\n",
    "# A fly over from West to East (positive y-axis direction)\n",
    "camera_zenith_list = [70.5, 60, 45.6, 26.1, 0, 26.1, 45.6, 60, 70.5]\n",
    "camera_azimuth_list = [-90, -90, -90, -90, 0, 90, 90, 90, 90]\n",
    "num_of_viewed_medium = len(camera_zenith_list)\n",
    "projection_type = 'perspective'\n",
    "# input_cloud = 'rico52x57x26'\n",
    "# input_cloud = 'rico32x37x26'\n",
    "input_cloud = 'WIZ'\n",
    "\n",
    "if len(wavelengths) > 1:\n",
    "    type = 'polychromatic'\n",
    "else:\n",
    "    type = 'monochromatic'\n",
    "\n",
    "\n",
    "output_dir = 'experiments/{}_vel_{}_img_{}_projection_{}/dynamic_medium_{}'.format(input_cloud, np.array_str(vel_cloud),\n",
    "                                                                                   len(camera_zenith_list), projection_type,type)\n",
    "\n",
    "# sun\n",
    "sun_azimuth=65\n",
    "sun_zenith=135\n",
    "\n",
    "# solver\n",
    "iter = 100"
   ],
   "metadata": {
    "collapsed": false,
    "pycharm": {
     "name": "#%%\n",
     "is_executing": false
    }
   }
  },
  {
   "cell_type": "code",
   "execution_count": 73,
   "outputs": [],
   "source": [
    "# Mie scattering for water droplets\n",
    "mie_table_paths = [\n",
    "    '../mie_tables/polydisperse/Water_{}nm.scat'.format(shdom.int_round(wavelength)) \n",
    "    for wavelength in wavelengths\n",
    "]\n",
    "\n",
    "solar_spectrum = shdom.SolarSpectrum('../ancillary_data/SpectralSolar_MODWehrli_1985_WMO.npz')\n",
    "solar_fluxes = solar_spectrum.get_monochrome_solar_flux(wavelengths)\n",
    "solar_fluxes = solar_fluxes / max(solar_fluxes)"
   ],
   "metadata": {
    "collapsed": false,
    "pycharm": {
     "name": "#%%\n",
     "is_executing": false
    }
   }
  },
  {
   "cell_type": "code",
   "execution_count": 74,
   "outputs": [],
   "source": [
    "# Load a Microphysical scatterer\n",
    "droplets = shdom.MicrophysicalScatterer()\n",
    "if input_cloud == 'rico52x57x26' or input_cloud == 'rico32x37x26':\n",
    "    camera_height = 3 #km\n",
    "    droplets.load_from_csv('../synthetic_cloud_fields/jpl_les/{}.txt'.format(input_cloud), veff=0.1)\n",
    "else:\n",
    "    camera_height = 4 #km\n",
    "    assert np.any(vel_cloud==np.array([0.0,0.0,0.0]))\n",
    "    data_dir = '../synthetic_cloud_fields/WIZ_Clouds/'\n",
    "    format_ = 'BOMEX_1CLD_256x256x320_500CCNblowInv_10m_1sec_micro_256_*.txt'# load \n",
    "    volumes_paths = sorted(glob.glob(data_dir + '/'+format_))\n",
    "    volumes_paths = volumes_paths[:num_of_viewed_medium]\n",
    "    droplets.load_from_csv(volumes_paths[0])\n"
   ],
   "metadata": {
    "collapsed": false,
    "pycharm": {
     "name": "#%%\n",
     "is_executing": false
    }
   }
  },
  {
   "cell_type": "code",
   "execution_count": 75,
   "outputs": [],
   "source": [
    "com_x, com_y, com_z = calccenterofmass(droplets=droplets)\n",
    "com = np.array([com_x, com_y, com_z])\n",
    "\n",
    "L_list = (np.sign(camera_azimuth_list)) * (camera_height - com_z) * np.tan(np.deg2rad(camera_zenith_list) )\n",
    "\n",
    "time_list = L_list *1e3 / vel_camera\n",
    "time_list = np.mean(np.split(time_list,num_of_viewed_medium),1)\n",
    "#sec\n",
    "camera_position_list = np.zeros([L_list.shape[0],3])\n",
    "\n",
    "# move the camera instead of the cloud\n",
    "camera_position_list[:, 0] = com_x\n",
    "camera_position_list[:, 1] = com_y + np.asarray(L_list)\n",
    "camera_position_list[:, 2] = camera_height"
   ],
   "metadata": {
    "collapsed": false,
    "pycharm": {
     "name": "#%%\n",
     "is_executing": false
    }
   }
  },
  {
   "cell_type": "code",
   "execution_count": 76,
   "outputs": [],
   "source": [
    "df = pd.read_csv('../ancillary_data/AFGL_summer_mid_lat.txt', comment='#', sep=' ')\n",
    "temperatures = df['Temperature(k)'].to_numpy(dtype=np.float32)\n",
    "altitudes = df['Altitude(km)'].to_numpy(dtype=np.float32)\n",
    "temperature_profile = shdom.GridData(shdom.Grid(z=altitudes), temperatures)\n",
    "air_grid = shdom.Grid(z=np.linspace(0, 20, 20))\n",
    "air = shdom.MultispectralScatterer()"
   ],
   "metadata": {
    "collapsed": false,
    "pycharm": {
     "name": "#%% Rayleigh scattering for air molecules up to 20 km\n",
     "is_executing": false
    }
   }
  },
  {
   "cell_type": "code",
   "execution_count": 77,
   "outputs": [
    {
     "name": "stdout",
     "text": [
      "Reading mie table from file: ../mie_tables/polydisperse/Water_672nm.scat\n",
      "Minimum medium effective radius [0.00] is smaller than the pre-computed table minimum radius [1.00]. Recompute Mie table with smaller minimum radius. Setting exceptioned values to pre-computed minimal value\n",
      "Minimum medium effective variance [0.00] is smaller than the pre-computed table minimum variance [0.01]. Recompute Mie table with smaller minimum variance. Setting exceptioned values to pre-computed minimal value\n",
      "Minimum medium effective radius [0.00] is smaller than the pre-computed table minimum radius [1.00]. Recompute Mie table with smaller minimum radius. Setting exceptioned values to pre-computed minimal value\n",
      "Minimum medium effective variance [0.00] is smaller than the pre-computed table minimum variance [0.01]. Recompute Mie table with smaller minimum variance. Setting exceptioned values to pre-computed minimal value\n",
      "Minimum medium effective radius [0.00] is smaller than the pre-computed table minimum radius [1.00]. Recompute Mie table with smaller minimum radius. Setting exceptioned values to pre-computed minimal value\n",
      "Minimum medium effective variance [0.00] is smaller than the pre-computed table minimum variance [0.01]. Recompute Mie table with smaller minimum variance. Setting exceptioned values to pre-computed minimal value\n",
      "Minimum medium effective radius [0.00] is smaller than the pre-computed table minimum radius [1.00]. Recompute Mie table with smaller minimum radius. Setting exceptioned values to pre-computed minimal value\n",
      "Minimum medium effective variance [0.00] is smaller than the pre-computed table minimum variance [0.01]. Recompute Mie table with smaller minimum variance. Setting exceptioned values to pre-computed minimal value\n",
      "Minimum medium effective radius [0.00] is smaller than the pre-computed table minimum radius [1.00]. Recompute Mie table with smaller minimum radius. Setting exceptioned values to pre-computed minimal value\n",
      "Minimum medium effective variance [0.00] is smaller than the pre-computed table minimum variance [0.01]. Recompute Mie table with smaller minimum variance. Setting exceptioned values to pre-computed minimal value\n",
      "Minimum medium effective radius [0.00] is smaller than the pre-computed table minimum radius [1.00]. Recompute Mie table with smaller minimum radius. Setting exceptioned values to pre-computed minimal value\n",
      "Minimum medium effective variance [0.00] is smaller than the pre-computed table minimum variance [0.01]. Recompute Mie table with smaller minimum variance. Setting exceptioned values to pre-computed minimal value\n",
      "Minimum medium effective radius [0.00] is smaller than the pre-computed table minimum radius [1.00]. Recompute Mie table with smaller minimum radius. Setting exceptioned values to pre-computed minimal value\n",
      "Minimum medium effective variance [0.00] is smaller than the pre-computed table minimum variance [0.01]. Recompute Mie table with smaller minimum variance. Setting exceptioned values to pre-computed minimal value\n",
      "Minimum medium effective radius [0.00] is smaller than the pre-computed table minimum radius [1.00]. Recompute Mie table with smaller minimum radius. Setting exceptioned values to pre-computed minimal value\n",
      "Minimum medium effective variance [0.00] is smaller than the pre-computed table minimum variance [0.01]. Recompute Mie table with smaller minimum variance. Setting exceptioned values to pre-computed minimal value\n",
      "Minimum medium effective radius [0.00] is smaller than the pre-computed table minimum radius [1.00]. Recompute Mie table with smaller minimum radius. Setting exceptioned values to pre-computed minimal value\n",
      "Minimum medium effective variance [0.00] is smaller than the pre-computed table minimum variance [0.01]. Recompute Mie table with smaller minimum variance. Setting exceptioned values to pre-computed minimal value\n"
     ],
     "output_type": "stream"
    }
   ],
   "source": [
    "temporary_scatterer_list = []\n",
    "grid = shdom.Grid(x=np.linspace(com_x-0.5,com_x+0.5,40),y=np.linspace(com_y-0.5,com_y+0.5,40),z=np.linspace(com_z-0.5,com_z+0.5,50))\n",
    "\n",
    "for wavelength, table_path in zip(wavelengths, mie_table_paths):  \n",
    "    # Molecular Rayleigh scattering\n",
    "    rayleigh = shdom.Rayleigh(wavelength)\n",
    "    rayleigh.set_profile(temperature_profile.resample(air_grid))\n",
    "    air.add_scatterer(rayleigh.get_scatterer())\n",
    "    mie = shdom.MiePolydisperse()\n",
    "    mie.read_table(table_path)\n",
    "    if input_cloud == 'rico52x57x26' or input_cloud == 'rico32x37x26':\n",
    "            droplets.add_mie(mie)\n",
    "    else:\n",
    "        for volumes_path, time in zip(volumes_paths, time_list):\n",
    "            droplets = shdom.MicrophysicalScatterer()\n",
    "            droplets.load_from_csv(volumes_path)\n",
    "            droplets.add_mie(mie)\n",
    "            droplets.resample(grid)\n",
    "            lwc = droplets.lwc.data\n",
    "            lwc /= 30 \n",
    "            temporary_scatterer_list.append(shdom.TemporaryScatterer(droplets,time))\n",
    "    \n"
   ],
   "metadata": {
    "collapsed": false,
    "pycharm": {
     "name": "#%%\n",
     "is_executing": false
    }
   }
  },
  {
   "cell_type": "code",
   "execution_count": 78,
   "outputs": [],
   "source": [
    "dynamic_scatterer = shdom.DynamicScatterer()\n",
    "if input_cloud == 'rico52x57x26' or input_cloud == 'rico32x37x26':\n",
    "    dynamic_scatterer.generate_dynamic_scatterer(scatterer=droplets, time_list=time_list, scatterer_velocity_list=vel_cloud)\n",
    "else:\n",
    "    dynamic_scatterer.add_temporary_scatterer(temporary_scatterer_list)\n",
    "\n",
    "dynamic_medium = shdom.DynamicMedium(dynamic_scatterer,air=air)"
   ],
   "metadata": {
    "collapsed": false,
    "pycharm": {
     "name": "#%%\n",
     "is_executing": false
    }
   }
  },
  {
   "cell_type": "code",
   "execution_count": 79,
   "outputs": [],
   "source": [
    "scene_params_list = []\n",
    "numerical_params_list =[]\n",
    "for wavelength, solar_flux in zip(wavelengths, solar_fluxes):\n",
    "    scene_params = shdom.SceneParameters(\n",
    "        wavelength=wavelength,\n",
    "        source=shdom.SolarSource(azimuth=sun_azimuth, zenith=sun_zenith, flux=solar_flux)\n",
    "    )\n",
    "    scene_params_list.append(scene_params)\n",
    "    numerical_params = shdom.NumericalParameters(num_mu_bins=8,num_phi_bins=16)\n",
    "    numerical_params_list.append(numerical_params)"
   ],
   "metadata": {
    "collapsed": false,
    "pycharm": {
     "name": "#%%\n",
     "is_executing": false
    }
   }
  },
  {
   "cell_type": "code",
   "execution_count": 80,
   "outputs": [],
   "source": [
    "dynamic_solver = shdom.DynamicRteSolver(scene_params=scene_params_list,numerical_params=numerical_params_list)\n",
    "dynamic_solver.set_dynamic_medium(dynamic_medium)\n",
    "dynamic_solver.solve(maxiter=iter)"
   ],
   "metadata": {
    "collapsed": false,
    "pycharm": {
     "name": "#%%\n",
     "is_executing": false
    }
   }
  },
  {
   "cell_type": "code",
   "execution_count": 81,
   "outputs": [],
   "source": [
    "projections = shdom.MultiViewProjection()\n",
    "\n",
    "for camera_azimuth,camera_zenith,camera_position in zip(camera_azimuth_list,camera_zenith_list,camera_position_list):\n",
    "     \n",
    "    if projection_type == 'perspective':\n",
    "         projection = (\n",
    "                shdom.PerspectiveProjection(fov=30, \n",
    "                nx=200, ny=200, x=camera_position[0], y=camera_position[1],\n",
    "                z=camera_position[2])\n",
    "            )  \n",
    "         projection.look_at_transform(point=com, up=[1.0, 0.0, 0.0])\n",
    "         projections.add_projection(projection)\n",
    "    else:\n",
    "        projections.add_projection(\n",
    "            shdom.OrthographicProjection(droplets.bounding_box,x_resolution=0.01,\n",
    "                                         y_resolution=0.01,azimuth=camera_zenith,zenith=camera_zenith))\n",
    "\n",
    "dynamic_projection = shdom.DynamicProjection(projection_split(projections, num_of_viewed_medium))"
   ],
   "metadata": {
    "collapsed": false,
    "pycharm": {
     "name": "#%%\n",
     "is_executing": false
    }
   }
  },
  {
   "cell_type": "code",
   "execution_count": 82,
   "outputs": [],
   "source": [
    "dynamic_camera = shdom.DynamicCamera(shdom.RadianceSensor(), dynamic_projection)\n",
    "images = dynamic_camera.render(dynamic_solver,n_jobs=40)"
   ],
   "metadata": {
    "collapsed": false,
    "pycharm": {
     "name": "#%%\n",
     "is_executing": false
    }
   }
  },
  {
   "cell_type": "code",
   "execution_count": 83,
   "outputs": [],
   "source": [
    "measurements = shdom.DynamicMeasurements(camera=dynamic_camera, images=images, wavelength=wavelengths,time_list=time_list)"
   ],
   "metadata": {
    "collapsed": false,
    "pycharm": {
     "name": "#%%\n",
     "is_executing": false
    }
   }
  },
  {
   "cell_type": "code",
   "execution_count": 84,
   "outputs": [
    {
     "data": {
      "text/plain": "<Figure size 1440x1440 with 9 Axes>",
      "image/png": "[encoded data removed]"
     },
     "metadata": {
      "needs_background": "light"
     },
     "output_type": "display_data"
    }
   ],
   "source": [
    "%matplotlib inline\n",
    "f, axarr = plt.subplots(1, len(images), figsize=(20, 20))\n",
    "if isinstance(axarr,plt.Axes):\n",
    "    axarr = [axarr]\n",
    "for ax, image in zip(axarr, images):\n",
    "    if len(image.shape)>2 and image.shape[2]==2:\n",
    "        image = np.concatenate((np.reshape(image[:,:,0],(image.shape[0],image.shape[1],1)),image),2)\n",
    "    elif len(image.shape)>2 and image.shape[2]>3:\n",
    "        image = image[:,:,0:2]\n",
    "    image -= image.min()\n",
    "    ax.imshow(image/image.max())\n"
   ],
   "metadata": {
    "collapsed": false,
    "pycharm": {
     "name": "#%%\n",
     "is_executing": false
    }
   }
  },
  {
   "cell_type": "code",
   "execution_count": 85,
   "outputs": [],
   "source": [
    "shdom.save_dynamic_forward_model(output_dir, dynamic_medium, dynamic_solver, measurements)"
   ],
   "metadata": {
    "collapsed": false,
    "pycharm": {
     "name": "#%% save\n",
     "is_executing": false
    }
   }
  },
  {
   "cell_type": "code",
   "execution_count": 86,
   "outputs": [
    {
     "name": "stdout",
     "text": [
      "\n"
     ],
     "output_type": "stream"
    }
   ],
   "source": [
    "a,b,c = shdom.load_dynamic_forward_model(output_dir)\n",
    "print()"
   ],
   "metadata": {
    "collapsed": false,
    "pycharm": {
     "name": "#%% test load\n",
     "is_executing": false
    }
   }
  }
 ],
 "metadata": {
  "kernelspec": {
   "display_name": "Python 3",
   "language": "python",
   "name": "python3"
  },
  "language_info": {
   "codemirror_mode": {
    "name": "ipython",
    "version": 2
   },
   "file_extension": ".py",
   "mimetype": "text/x-python",
   "name": "python",
   "nbconvert_exporter": "python",
   "pygments_lexer": "ipython2",
   "version": "2.7.6"
  },
  "pycharm": {
   "stem_cell": {
    "cell_type": "raw",
    "source": [],
    "metadata": {
     "collapsed": false
    }
   }
  }
 },
 "nbformat": 4,
 "nbformat_minor": 0
}