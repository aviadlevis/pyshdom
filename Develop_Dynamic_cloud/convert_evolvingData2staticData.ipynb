{
 "cells": [
  {
   "cell_type": "code",
   "execution_count": 8,
   "metadata": {
    "collapsed": true,
    "pycharm": {
     "is_executing": false
    }
   },
   "outputs": [],
   "source": [
    "import os \n",
    "import matplotlib.pyplot as plt\n",
    "import numpy as np\n",
    "import pandas as pd\n",
    "import scipy.io as sio\n",
    "import shdom\n",
    "from scipy.ndimage import center_of_mass\n"
   ]
  },
  {
   "cell_type": "code",
   "execution_count": 9,
   "outputs": [],
   "source": [
    "out_dir = '../experiments/rico32x37x26_velocity_0_0_1img_perspective/monochromatic'\n",
    "dynamic_medium, rte_solver, measurements = shdom.load_dynamic_forward_model('experiments/rico32x37x26_velocity_0_0_1img_perspective/dynamic_medium')"
   ],
   "metadata": {
    "collapsed": false,
    "pycharm": {
     "name": "#%%\n",
     "is_executing": false
    }
   }
  },
  {
   "cell_type": "code",
   "execution_count": 10,
   "outputs": [
    {
     "name": "stdout",
     "text": [
      "\n"
     ],
     "output_type": "stream"
    }
   ],
   "source": [
    "static_rte_solver = rte_solver.solver_list[0]\n",
    "first = True\n",
    "for medium in dynamic_medium.dynamic_medium:\n",
    "    if first:\n",
    "        lwc = medium.scatterers['cloud'].lwc.data\n",
    "        reff = medium.scatterers['cloud'].reff.data\n",
    "        veff = medium.scatterers['cloud'].veff.data\n",
    "        first = False\n",
    "    else:\n",
    "        lwc += medium.scatterers['cloud'].lwc.data\n",
    "        reff += medium.scatterers['cloud'].reff.data\n",
    "        veff += medium.scatterers['cloud'].veff.data\n",
    "lwc /= len(dynamic_medium.dynamic_medium)\n",
    "reff /= len(dynamic_medium.dynamic_medium)\n",
    "veff /= len(dynamic_medium.dynamic_medium)\n",
    "lwc = shdom.GridData(medium.scatterers['cloud'].lwc.grid,lwc)\n",
    "reff = shdom.GridData(medium.scatterers['cloud'].reff.grid,reff)\n",
    "reff.data[reff.data<1] =0\n",
    "veff = shdom.GridData(medium.scatterers['cloud'].veff.grid,veff)\n",
    "if np.isscalar(veff.data):\n",
    "    # veff.data = veff.data\n",
    "    print()\n",
    "else:\n",
    "    veff.data[veff.data<0.01]=0"
   ],
   "metadata": {
    "collapsed": false,
    "pycharm": {
     "name": "#%%\n",
     "is_executing": false
    }
   }
  },
  {
   "cell_type": "code",
   "execution_count": 11,
   "outputs": [
    {
     "name": "stdout",
     "text": [
      "Reading mie table from file: ../mie_tables/polydisperse/Water_672nm.scat\n"
     ],
     "output_type": "stream"
    }
   ],
   "source": [
    "mie = shdom.MiePolydisperse()\n",
    "mie.read_table(file_path='../mie_tables/polydisperse/Water_672nm.scat')#set the correct mie\n",
    "avg_scatterer = shdom.MicrophysicalScatterer(lwc,reff,veff)\n",
    "avg_scatterer.add_mie(mie)\n",
    "atmospheric_grid = avg_scatterer.grid + medium.scatterers['air'].grid\n",
    "atmosphere = shdom.Medium(atmospheric_grid)\n",
    "atmosphere.add_scatterer(avg_scatterer, name='cloud')\n",
    "atmosphere.add_scatterer(medium.scatterers['air'], name='air')"
   ],
   "metadata": {
    "collapsed": false,
    "pycharm": {
     "name": "#%%\n",
     "is_executing": false
    }
   }
  },
  {
   "cell_type": "code",
   "execution_count": 12,
   "outputs": [],
   "source": [
    "static_measurement = shdom.Measurements(measurements.camera,measurements.images,measurements.pixels,measurements.wavelength)\n",
    "\n",
    "shdom.save_forward_model(out_dir, atmosphere, static_rte_solver, static_measurement)\n"
   ],
   "metadata": {
    "collapsed": false,
    "pycharm": {
     "name": "#%%\n",
     "is_executing": false
    }
   }
  }
 ],
 "metadata": {
  "kernelspec": {
   "display_name": "Python 3",
   "language": "python",
   "name": "python3"
  },
  "language_info": {
   "codemirror_mode": {
    "name": "ipython",
    "version": 2
   },
   "file_extension": ".py",
   "mimetype": "text/x-python",
   "name": "python",
   "nbconvert_exporter": "python",
   "pygments_lexer": "ipython2",
   "version": "2.7.6"
  },
  "pycharm": {
   "stem_cell": {
    "cell_type": "raw",
    "source": [],
    "metadata": {
     "collapsed": false
    }
   }
  }
 },
 "nbformat": 4,
 "nbformat_minor": 0
}