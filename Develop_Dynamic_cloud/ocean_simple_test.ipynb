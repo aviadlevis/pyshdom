{
 "cells": [
  {
   "cell_type": "markdown",
   "metadata": {
    "ExecuteTime": {
     "end_time": "2019-04-24T11:17:12.065176Z",
     "start_time": "2019-04-24T11:17:12.053289Z"
    }
   },
   "source": [
    "# Multiview Rendering\n",
    "\n",
    "This notebook demonstrates how to solve the Radiative Transfer using SHDOM and render multiview images. \n",
    "\n",
    "The images rendered are monochromatic- a single wavelength for which a mie table was previously calculated.\n",
    "\n",
    "---\n",
    "\n",
    "Related tutorials: \n",
    " - Make Mie Table.ipynb - how to create mie tables\n",
    " - Radiance Rendering [Single Image].ipynb - how to create a single monochromatic image\n",
    " - Radiance Rendering [Multispectral].ipynb - how to create RGB (multispectral) images\n",
    "\n",
    "---\n",
    "\n",
    "The source Fortran code was created by Frank Evans and it is part of the SHDOM package: http://nit.colorado.edu/shdom.html\n",
    "\n",
    "The python wrapper was created by Aviad Levis, Technion Inst. of Technology 2019: https://github.com/aviadlevis/pyshdom"
   ]
  },
  {
   "cell_type": "code",
   "execution_count": 1,
   "metadata": {
    "ExecuteTime": {
     "end_time": "2019-05-22T11:33:09.498882Z",
     "start_time": "2019-05-22T11:33:08.609451Z"
    },
    "init_cell": true,
    "pycharm": {
     "is_executing": false
    }
   },
   "outputs": [],
   "source": [
    "\"\"\"\n",
    "Imports necessary for this notebook\n",
    "\"\"\"\n",
    "import os \n",
    "import matplotlib.pyplot as plt\n",
    "import numpy as np\n",
    "import pandas as pd\n",
    "import shdom\n",
    "import time\n"
   ]
  },
  {
   "cell_type": "code",
   "execution_count": 2,
   "metadata": {
    "ExecuteTime": {
     "end_time": "2019-05-21T08:44:58.773611Z",
     "start_time": "2019-05-21T08:44:57.287264Z"
    },
    "pycharm": {
     "is_executing": false
    }
   },
   "outputs": [
    {
     "name": "stdout",
     "text": [
      "Reading mie table from file: ../mie_tables/polydisperse/Water_672nm.scat\n"
     ],
     "output_type": "stream"
    }
   ],
   "source": [
    "\"\"\" \n",
    " - MiePolydisperse object loads a previously saved mie table.\n",
    " - Rayleigh object initilizes Rayleigh scattering according to a temperature profile.\n",
    "   Temperature profile here is of summer mid-latitude for 0-20km taken from AFGL [1]\n",
    " - A Large-Eddy-Simulated [2] cloud michrophysical properties are loaded from a csv file.\n",
    "\n",
    "[1] G. P. Anderson, S. A. Clough, F. Kneizys, J. H. Chetwynd, and E. P. Shettle. \n",
    "    AFGL atmospheric constituentprofiles (0.120 km). Technical report, Air Force Geophysics Lab, 1986.\n",
    "[2] G. Matheou and D. Chung. Large-eddy simulation of stratified turbulence. \n",
    "    part CLARREO: Application of thestretched-vortex model to the atmospheric boundary layer.\n",
    "    Journal of the Atmospheric Sciences, 71(12):44394460,2014.\n",
    "\"\"\"\n",
    "wavelength = 0.672\n",
    "# Mie scattering for water droplets\n",
    "mie = shdom.MiePolydisperse()\n",
    "mie.read_table(file_path='../mie_tables/polydisperse/Water_672nm.scat')\n",
    "\n",
    "# output_dir = '../experiments/WIZ_10m_1sec_micro_256_0000003880_perspective/monochromatic'\n",
    "\n",
    "\n",
    "# Generate a Microphysical medium\n",
    "droplets = shdom.MicrophysicalScatterer()\n",
    "droplets.load_from_csv('../synthetic_cloud_fields/jpl_les/rico52x57x26.txt', veff=0.1)\n",
    "# droplets.load_from_csv('../synthetic_cloud_fields/WIZ_Clouds/BOMEX_1CLD_256x256x320_500CCNblowInv_10m_1sec_micro_256_0000003880.txt')\n",
    "grid = shdom.Grid(x=np.linspace(droplets.grid.xmin,droplets.grid.xmax,26),y=np.linspace(droplets.grid.ymin,droplets.grid.ymax,26),z=np.linspace(droplets.grid.zmin,droplets.grid.zmax,32))\n",
    "droplets.add_mie(mie)\n",
    "droplets.resample(grid)\n",
    "\n",
    "# Rayleigh scattering for air molecules up to 20 km\n",
    "df = pd.read_csv('../ancillary_data/AFGL_summer_mid_lat.txt', comment='#', sep=' ')\n",
    "temperatures = df['Temperature(k)'].to_numpy(dtype=np.float32)\n",
    "altitudes = df['Altitude(km)'].to_numpy(dtype=np.float32)\n",
    "temperature_profile = shdom.GridData(shdom.Grid(z=altitudes), temperatures)\n",
    "air_grid = shdom.Grid(z=np.linspace(0, 20, 20))\n",
    "rayleigh = shdom.Rayleigh(wavelength=wavelength)\n",
    "rayleigh.set_profile(temperature_profile.resample(air_grid))\n",
    "air = rayleigh.get_scatterer()\n",
    "\n"
   ]
  },
  {
   "cell_type": "code",
   "execution_count": 3,
   "metadata": {
    "ExecuteTime": {
     "end_time": "2019-05-21T08:44:58.888758Z",
     "start_time": "2019-05-21T08:44:58.779993Z"
    },
    "pycharm": {
     "is_executing": false
    }
   },
   "outputs": [
    {
     "name": "stdout",
     "text": [
      "adapt_grid_factor reduced to  1.8492843161160868\n",
      "Scene Parameters: \n",
      "   Wavelength: [0.672 micron]\n",
      "   Surface: [Ocean, wind speed: 5, chlorophyll concentration: 0]\n",
      "   Source: [Solar, flux: 1.0, azimuth: 65deg, zenith: 170deg]\n",
      "   Boundary Conditions: [x:open, y:open]\n",
      "\n",
      "Numerical Parameters: \n",
      "   num_mu_bins: 8\n",
      "   num_phi_bins: 16\n",
      "   split_accuracy: 0.1\n",
      "   deltam: True\n",
      "   spherical_harmonics_accuracy: 0.01\n",
      "   solution_accuracy: 0.0001\n",
      "   acceleration_flag: True\n",
      "   max_total_mb: 10000.0\n",
      "   adapt_grid_factor: 5\n",
      "   num_sh_term_factor: 5\n",
      "   cell_to_point_ratio: 1.5\n",
      "   high_order_radiance: True\n",
      "\n"
     ],
     "output_type": "stream"
    }
   ],
   "source": [
    "\"\"\"\n",
    "Generate an Medium with two type of scatterers and initilize an RteSolver object. \n",
    "This will initialize all of shdom internal structures and grids.\n",
    "\n",
    "SceneParameters() contains parameters such as surface albedo and solar radiance\n",
    "NumericalParameters() contains parameters such as number of angular bins and split cell ratio.\n",
    "All parameters have default values which can be viewed using print(params.info).\n",
    "\"\"\"\n",
    "grid = shdom.Grid(x=droplets.grid.x-3,y=droplets.grid.y-3,z=air.grid.z)\n",
    "grid2 = shdom.Grid(x=droplets.grid.x+3,y=droplets.grid.y+3,z=air.grid.z)\n",
    "start = time.time()\n",
    "\n",
    "atmospheric_grid =  droplets.grid + air.grid + grid + grid2\n",
    "atmosphere = shdom.Medium(atmospheric_grid)\n",
    "atmosphere.add_scatterer(droplets, name='cloud')\n",
    "atmosphere.add_scatterer(air, name='air')\n",
    "scene_params = shdom.SceneParameters(\n",
    "        surface=shdom.OceanSurface(wind_speed=5,chlorophyll_concentration=0),\n",
    "        wavelength=wavelength,\n",
    "        source=shdom.SolarSource(azimuth=65, zenith=170)\n",
    "    )\n",
    "numerical_params = shdom.NumericalParameters(num_mu_bins=8, num_phi_bins=16)\n",
    "\n",
    "rte_solver = shdom.RteSolver(scene_params, numerical_params)\n",
    "rte_solver.set_medium(atmosphere)\n",
    "\n",
    "print(rte_solver.info)"
   ]
  },
  {
   "cell_type": "code",
   "execution_count": null,
   "metadata": {
    "ExecuteTime": {
     "end_time": "2019-05-21T08:45:12.640705Z",
     "start_time": "2019-05-21T08:44:58.890770Z"
    },
    "pycharm": {
     "is_executing": true
    }
   },
   "outputs": [],
   "source": [
    "\"\"\"\n",
    "Solve the Radiative Transfer for the domain using SHDOM: SOLVE_RTE procedure (src/unpolarized/shdomsub1.f).\n",
    "The outputs are the source function (J) and radiance field (I) which are stored in \n",
    "the shdom.RteSolver object. These are subsequently used for the rendering of an image.\n",
    "\"\"\"\n",
    "rte_solver.solve(maxiter=100)"
   ]
  },
  {
   "cell_type": "code",
   "execution_count": null,
   "outputs": [],
   "source": [
    "\"\"\"\n",
    "Define a sensor array and render multi-view images of the domain. \n",
    "Note that in some cases of small atmospheric domain, parallel rendering is slower due to comunication overhead.\n",
    "Plot the synthetic images.\n",
    "\"\"\"\n",
    "# A fly over from East to West (negative y-axis direction)\n",
    "camera_zenith_list = [70.5, 60, 45.6, 26.1, 0, 26.1, 45.6, 60, 70.5]\n",
    "camera_azimuth_list = [-90, -90, -90, -90, 0, 90, 90, 90, 90]\n",
    "# camera_zenith_list = [60, 60]\n",
    "# camera_azimuth_list = [-90, 90]\n",
    "vel_camera = 45 # m/s\n",
    "camera_height = 5 #km"
   ],
   "metadata": {
    "collapsed": false,
    "pycharm": {
     "name": "#%%\n",
     "is_executing": true
    }
   }
  },
  {
   "cell_type": "code",
   "execution_count": null,
   "outputs": [],
   "source": [
    "def calccenterofmass(droplets):\n",
    "    lwc = droplets.lwc.data\n",
    "    mx = np.sum(np.sum(lwc,2),1)\n",
    "    my = np.sum(np.sum(lwc,2),0)\n",
    "    mz = np.sum(np.sum(lwc,0),0)\n",
    "    com_x = sum(mx * droplets.grid.x)/sum(mx)\n",
    "    com_y = sum(my * droplets.grid.y)/sum(my)\n",
    "    com_z = sum(mz * droplets.grid.z)/sum(mz)\n",
    "    return com_x, com_y, com_z\n",
    "\n",
    "com_x, com_y, com_z = calccenterofmass(droplets=droplets)\n",
    "com = np.array([com_x, com_y, com_z])\n",
    "\n",
    "L_list = (np.sign(camera_azimuth_list)) * (camera_height - com_z) * np.tan(np.deg2rad(camera_zenith_list) )\n",
    "\n",
    "time_list = L_list *1e3 / vel_camera #sec\n",
    "camera_position_list = np.zeros([L_list.shape[0],3])\n",
    "\n",
    "# move the camera instead of the cloud\n",
    "camera_position_list[:, 0] = com_x\n",
    "camera_position_list[:, 1] = com_y + np.asarray(L_list)\n",
    "camera_position_list[:, 2] = camera_height\n",
    "projections = shdom.MultiViewProjection()\n",
    "\n",
    "for camera_azimuth,camera_zenith,camera_position in zip(camera_azimuth_list,camera_zenith_list,camera_position_list):\n",
    "     \n",
    "    if 1:\n",
    "        projection = shdom.PerspectiveProjection(fov=30, \n",
    "                nx=200, ny=200, x=camera_position[0], y=camera_position[1],\n",
    "                z=camera_position[2])\n",
    "        projection.look_at_transform(point=com, up=[1.0, 0.0, 0.0])\n",
    "        projections.add_projection(projection)\n",
    "\n",
    "    else:\n",
    "        projections.add_projection(\n",
    "            shdom.OrthographicProjection(droplets.bounding_box,x_resolution=0.01,\n",
    "                                         y_resolution=0.01,azimuth=camera_azimuth,zenith=camera_zenith)\n",
    "            \n",
    "        )   \n",
    "    \n",
    "    \n",
    "camera = shdom.Camera(shdom.RadianceSensor(), projections)\n",
    "images = camera.render(rte_solver, n_jobs=40)\n",
    "measurements = shdom.Measurements(camera, images=images, wavelength=0.672)\n",
    "\n",
    "%matplotlib inline\n",
    "f, axarr = plt.subplots(1, len(images), figsize=(20, 20))\n",
    "for ax, image in zip(axarr, images):\n",
    "    im = ax.imshow(image)\n",
    "    ax.axis('off')\n",
    "    # plt.colorbar(im)"
   ],
   "metadata": {
    "collapsed": false,
    "pycharm": {
     "name": "#%%\n",
     "is_executing": true
    }
   }
  },
  {
   "cell_type": "code",
   "execution_count": null,
   "outputs": [],
   "source": [
    "end = time.time()\n",
    "print(end - start)"
   ],
   "metadata": {
    "collapsed": false,
    "pycharm": {
     "name": "#%%\n",
     "is_executing": true
    }
   }
  }
 ],
 "metadata": {
  "celltoolbar": "Initialization Cell",
  "kernelspec": {
   "display_name": "Python 3",
   "language": "python",
   "name": "python3"
  },
  "language_info": {
   "codemirror_mode": {
    "name": "ipython",
    "version": 3
   },
   "file_extension": ".py",
   "mimetype": "text/x-python",
   "name": "python",
   "nbconvert_exporter": "python",
   "pygments_lexer": "ipython3",
   "version": "3.7.3"
  },
  "latex_envs": {
   "LaTeX_envs_menu_present": true,
   "autoclose": false,
   "autocomplete": true,
   "bibliofile": "biblio.bib",
   "cite_by": "apalike",
   "current_citInitial": 1,
   "eqLabelWithNumbers": true,
   "eqNumInitial": 1,
   "hotkeys": {
    "equation": "Ctrl-E",
    "itemize": "Ctrl-I"
   },
   "labels_anchors": false,
   "latex_user_defs": false,
   "report_style_numbering": false,
   "user_envs_cfg": false
  },
  "varInspector": {
   "cols": {
    "lenName": 16,
    "lenType": 16,
    "lenVar": 40
   },
   "kernels_config": {
    "python": {
     "delete_cmd_postfix": "",
     "delete_cmd_prefix": "del ",
     "library": "var_list.py",
     "varRefreshCmd": "print(var_dic_list())"
    },
    "r": {
     "delete_cmd_postfix": ") ",
     "delete_cmd_prefix": "rm(",
     "library": "var_list.r",
     "varRefreshCmd": "cat(var_dic_list()) "
    }
   },
   "types_to_exclude": [
    "module",
    "function",
    "builtin_function_or_method",
    "instance",
    "_Feature"
   ],
   "window_display": false
  },
  "pycharm": {
   "stem_cell": {
    "cell_type": "raw",
    "source": [],
    "metadata": {
     "collapsed": false
    }
   }
  }
 },
 "nbformat": 4,
 "nbformat_minor": 2
}