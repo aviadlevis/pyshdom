{
 "cells": [
  {
   "cell_type": "code",
   "execution_count": 15,
   "outputs": [],
   "source": [
    "\"\"\"\n",
    "Imports necessary for this notebook\n",
    "\"\"\"\n",
    "import os \n",
    "import matplotlib.pyplot as plt\n",
    "import numpy as np\n",
    "import pandas as pd\n",
    "import scipy.io as sio\n",
    "import shdom\n",
    "import glob\n",
    "from scipy.ndimage import center_of_mass\n",
    "import re\n",
    "\n",
    "\n"
   ],
   "metadata": {
    "collapsed": false,
    "pycharm": {
     "name": "#%%\n",
     "is_executing": false
    }
   }
  },
  {
   "cell_type": "code",
   "execution_count": 16,
   "outputs": [
    {
     "name": "stdout",
     "text": [
      "Reading mie table from file: ../mie_tables/polydisperse/Water_672nm.scat\n"
     ],
     "output_type": "stream"
    }
   ],
   "source": [
    "\n",
    "\"\"\"\n",
    "Set settings\n",
    "\"\"\"\n",
    "wavelength = 0.672\n",
    "vel_cloud = np.array([0.0,0.0,0.0]) # m/s\n",
    "vel_camera = 45 # m/s\n",
    "camera_height = 6 #km\n",
    "# A fly over from West to East (positive y-axis direction)\n",
    "camera_zenith_list = [70.5, 60, 45.6, 26.1, 0, 26.1, 45.6, 60, 70.5]\n",
    "camera_azimuth_list = [-90, -90, -90, -90, 0, 90, 90, 90, 90]\n",
    "\n",
    "output_dir = 'experiments/WIZ_velocity_0_0_9img_perspective/dynamic_medium'\n",
    "\n",
    "# sun\n",
    "sun_azimuth=65\n",
    "sun_zenith=135\n",
    "\n",
    "# solver\n",
    "iter = 100\n",
    "\n",
    "# Mie scattering for water droplets\n",
    "mie = shdom.MiePolydisperse()\n",
    "mie.read_table(file_path='../mie_tables/polydisperse/Water_672nm.scat')"
   ],
   "metadata": {
    "collapsed": false,
    "pycharm": {
     "name": "#%%\n",
     "is_executing": false
    }
   }
  },
  {
   "cell_type": "code",
   "execution_count": 17,
   "outputs": [],
   "source": [
    "data_dir = '../synthetic_cloud_fields/WIZ_Clouds/'\n",
    "format_ = 'BOMEX_1CLD_256x256x320_500CCNblowInv_10m_1sec_micro_256_*.txt'# load \n",
    "volumes_paths = sorted(glob.glob(data_dir + '/'+format_))\n",
    "# volume_stamps = [re.findall('_(\\d*).com3D_int_2.txt', i)[0] for i in volumes_paths]\n",
    "# volume_stamps = [int(i) for i in volume_stamps]# convert to integer \n"
   ],
   "metadata": {
    "collapsed": false,
    "pycharm": {
     "name": "#%%\n",
     "is_executing": false
    }
   }
  },
  {
   "cell_type": "code",
   "execution_count": 18,
   "outputs": [],
   "source": [
    "# Rayleigh scattering for air molecules up to 20 km\n",
    "df = pd.read_csv('../ancillary_data/AFGL_summer_mid_lat.txt', comment='#', sep=' ')\n",
    "temperatures = df['Temperature(k)'].to_numpy(dtype=np.float32)\n",
    "altitudes = df['Altitude(km)'].to_numpy(dtype=np.float32)\n",
    "temperature_profile = shdom.GridData(shdom.Grid(z=altitudes), temperatures)\n",
    "air_grid = shdom.Grid(z=np.linspace(0, 20, 20))\n",
    "rayleigh = shdom.Rayleigh(wavelength=wavelength)\n",
    "rayleigh.set_profile(temperature_profile.resample(air_grid))\n",
    "air = rayleigh.get_scatterer()\n",
    "\n",
    "\n",
    "def calccenterofmass(droplets):\n",
    "    lwc = droplets.lwc.data\n",
    "    mx = np.sum(np.sum(lwc,2),1)\n",
    "    my = np.sum(np.sum(lwc,2),0)\n",
    "    mz = np.sum(np.sum(lwc,0),0)\n",
    "    com_x = sum(mx * droplets.grid.x)/sum(mx)\n",
    "    com_y = sum(my * droplets.grid.y)/sum(my)\n",
    "    com_z = sum(mz * droplets.grid.z)/sum(mz)\n",
    "    return com_x, com_y, com_z\n",
    "\n",
    "droplets = shdom.MicrophysicalScatterer()\n",
    "droplets.load_from_csv(volumes_paths[4])\n",
    "com_x, com_y, com_z = calccenterofmass(droplets=droplets)\n",
    "com = np.array([com_x, com_y, com_z])\n",
    "\n",
    "L_list = (np.sign(camera_azimuth_list)) * (camera_height - com_z) * np.tan(np.deg2rad(camera_zenith_list) )\n",
    "\n",
    "time_list = L_list *1e3 / vel_camera #sec\n",
    "camera_position_list = np.zeros([L_list.shape[0],3])\n",
    "\n",
    "# move the camera instead of the cloud\n",
    "camera_position_list[:, 0] = com_x\n",
    "camera_position_list[:, 1] = com_y + np.asarray(L_list)\n",
    "camera_position_list[:, 2] = camera_height"
   ],
   "metadata": {
    "collapsed": false,
    "pycharm": {
     "name": "#%%\n",
     "is_executing": false
    }
   }
  },
  {
   "cell_type": "code",
   "execution_count": 19,
   "outputs": [
    {
     "name": "stdout",
     "text": [
      "Minimum medium effective radius [0.01] is smaller than the pre-computed table minimum radius [1.00]. Recompute Mie table with smaller minimum radius. Setting exceptioned values to pre-computed minimal value\n",
      "Minimum medium effective variance [0.00] is smaller than the pre-computed table minimum variance [0.01]. Recompute Mie table with smaller minimum variance. Setting exceptioned values to pre-computed minimal value\n",
      "Minimum medium effective radius [0.01] is smaller than the pre-computed table minimum radius [1.00]. Recompute Mie table with smaller minimum radius. Setting exceptioned values to pre-computed minimal value\n",
      "Minimum medium effective variance [0.00] is smaller than the pre-computed table minimum variance [0.01]. Recompute Mie table with smaller minimum variance. Setting exceptioned values to pre-computed minimal value\n",
      "Minimum medium effective radius [0.01] is smaller than the pre-computed table minimum radius [1.00]. Recompute Mie table with smaller minimum radius. Setting exceptioned values to pre-computed minimal value\n",
      "Minimum medium effective variance [0.00] is smaller than the pre-computed table minimum variance [0.01]. Recompute Mie table with smaller minimum variance. Setting exceptioned values to pre-computed minimal value\n",
      "Minimum medium effective radius [0.01] is smaller than the pre-computed table minimum radius [1.00]. Recompute Mie table with smaller minimum radius. Setting exceptioned values to pre-computed minimal value\n",
      "Minimum medium effective variance [0.00] is smaller than the pre-computed table minimum variance [0.01]. Recompute Mie table with smaller minimum variance. Setting exceptioned values to pre-computed minimal value\n",
      "Minimum medium effective radius [0.01] is smaller than the pre-computed table minimum radius [1.00]. Recompute Mie table with smaller minimum radius. Setting exceptioned values to pre-computed minimal value\n",
      "Minimum medium effective variance [0.00] is smaller than the pre-computed table minimum variance [0.01]. Recompute Mie table with smaller minimum variance. Setting exceptioned values to pre-computed minimal value\n",
      "Minimum medium effective radius [0.01] is smaller than the pre-computed table minimum radius [1.00]. Recompute Mie table with smaller minimum radius. Setting exceptioned values to pre-computed minimal value\n",
      "Minimum medium effective variance [0.00] is smaller than the pre-computed table minimum variance [0.01]. Recompute Mie table with smaller minimum variance. Setting exceptioned values to pre-computed minimal value\n",
      "Minimum medium effective radius [0.01] is smaller than the pre-computed table minimum radius [1.00]. Recompute Mie table with smaller minimum radius. Setting exceptioned values to pre-computed minimal value\n",
      "Minimum medium effective variance [0.00] is smaller than the pre-computed table minimum variance [0.01]. Recompute Mie table with smaller minimum variance. Setting exceptioned values to pre-computed minimal value\n",
      "Minimum medium effective radius [0.01] is smaller than the pre-computed table minimum radius [1.00]. Recompute Mie table with smaller minimum radius. Setting exceptioned values to pre-computed minimal value\n",
      "Minimum medium effective variance [0.00] is smaller than the pre-computed table minimum variance [0.01]. Recompute Mie table with smaller minimum variance. Setting exceptioned values to pre-computed minimal value\n",
      "Minimum medium effective radius [0.01] is smaller than the pre-computed table minimum radius [1.00]. Recompute Mie table with smaller minimum radius. Setting exceptioned values to pre-computed minimal value\n",
      "Minimum medium effective variance [0.00] is smaller than the pre-computed table minimum variance [0.01]. Recompute Mie table with smaller minimum variance. Setting exceptioned values to pre-computed minimal value\n"
     ],
     "output_type": "stream"
    }
   ],
   "source": [
    "resample=True\n",
    "grid = shdom.Grid(x=np.linspace(droplets.grid.xmin,droplets.grid.xmax,26),y=np.linspace(droplets.grid.ymin,droplets.grid.ymax,26),z=np.linspace(droplets.grid.zmin,droplets.grid.zmax,32))\n",
    "temporary_scatterer_list = []\n",
    "for volumes_path, time in zip(volumes_paths, time_list):\n",
    "   # Generate a Microphysical medium\n",
    "    droplets = shdom.MicrophysicalScatterer()\n",
    "    droplets.load_from_csv(volumes_path)\n",
    "    droplets.add_mie(mie)\n",
    "    if resample:\n",
    "        droplets.resample(grid)\n",
    "    temporary_scatterer_list.append(shdom.TemporaryScatterer(droplets,time))\n",
    "   "
   ],
   "metadata": {
    "collapsed": false,
    "pycharm": {
     "name": "#%%\n",
     "is_executing": false
    }
   }
  },
  {
   "cell_type": "code",
   "execution_count": 20,
   "outputs": [],
   "source": [
    "dynamic_scatterer = shdom.DynamicScatterer()\n",
    "dynamic_scatterer.add_temporary_scatterer(temporary_scatterer_list)\n",
    "dynamic_medium = shdom.DynamicMedium(dynamic_scatterer,air=air)"
   ],
   "metadata": {
    "collapsed": false,
    "pycharm": {
     "name": "#%%\n",
     "is_executing": false
    }
   }
  },
  {
   "cell_type": "code",
   "execution_count": 29,
   "outputs": [],
   "source": [
    "scene_params = shdom.SceneParameters(\n",
    "    wavelength=mie.wavelength,\n",
    "    source=shdom.SolarSource(azimuth=sun_azimuth, zenith=sun_zenith)\n",
    ")\n",
    "numerical_params = shdom.NumericalParameters(num_mu_bins=8,num_phi_bins=16)\n",
    "\n",
    "dynamic_solver = shdom.DynamicRteSolver(scene_params=scene_params,numerical_params=numerical_params)\n",
    "dynamic_solver.set_dynamic_medium(dynamic_medium)\n",
    "dynamic_solver.solve(maxiter=iter)"
   ],
   "metadata": {
    "collapsed": false,
    "pycharm": {
     "name": "#%%\n",
     "is_executing": false
    }
   }
  },
  {
   "cell_type": "code",
   "execution_count": 60,
   "outputs": [],
   "source": [
    "projections = shdom.MultiViewProjection()\n",
    "\n",
    "for camera_azimuth,camera_zenith,camera_position in zip(camera_azimuth_list,camera_zenith_list,camera_position_list):\n",
    "     \n",
    "    if 1:\n",
    "         projection = (\n",
    "                shdom.PerspectiveProjection(fov=30, \n",
    "                nx=200, ny=200, x=camera_position[0], y=camera_position[1],\n",
    "                z=camera_position[2])\n",
    "            )  \n",
    "         projection.look_at_transform(point=com, up=[1.0, 0.0, 0.0])\n",
    "         projections.add_projection(projection)\n",
    "    else:\n",
    "        projection.add_projection(\n",
    "            shdom.OrthographicProjection(droplets.bounding_box,x_resolution=0.01,\n",
    "                                         y_resolution=0.01,azimuth=camera_zenith,zenith=camera_zenith)\n",
    "            \n",
    "        )"
   ],
   "metadata": {
    "collapsed": false,
    "pycharm": {
     "name": "#%%\n",
     "is_executing": false
    }
   }
  },
  {
   "cell_type": "code",
   "execution_count": 61,
   "outputs": [],
   "source": [
    "dynamic_camera = shdom.DynamicCamera(shdom.RadianceSensor(), projections)\n",
    "images = dynamic_camera.render(dynamic_solver,n_jobs=40)"
   ],
   "metadata": {
    "collapsed": false,
    "pycharm": {
     "name": "#%%\n",
     "is_executing": false
    }
   }
  },
  {
   "cell_type": "code",
   "execution_count": 62,
   "outputs": [],
   "source": [
    "measurements = shdom.DynamicMeasurements(dynamic_camera, images=images, wavelength=wavelength,time_list=time_list)"
   ],
   "metadata": {
    "collapsed": false,
    "pycharm": {
     "name": "#%%\n",
     "is_executing": false
    }
   }
  },
  {
   "cell_type": "code",
   "execution_count": 63,
   "outputs": [
    {
     "data": {
      "text/plain": "<Figure size 1440x1440 with 9 Axes>",
      "image/png": "[encoded data removed]"
     },
     "metadata": {
      "needs_background": "light"
     },
     "output_type": "display_data"
    }
   ],
   "source": [
    "%matplotlib inline\n",
    "f, axarr = plt.subplots(1, len(images), figsize=(20, 20))\n",
    "for ax, image in zip(axarr, images):\n",
    "    ax.imshow(image)\n",
    "    ax.invert_xaxis() \n",
    "    ax.invert_yaxis() \n",
    "    ax.axis('off')"
   ],
   "metadata": {
    "collapsed": false,
    "pycharm": {
     "name": "#%%\n",
     "is_executing": false
    }
   }
  },
  {
   "cell_type": "code",
   "execution_count": 65,
   "outputs": [
    {
     "data": {
      "text/plain": "<matplotlib.colorbar.Colorbar at 0x7f3b7ad71e90>"
     },
     "metadata": {},
     "output_type": "execute_result",
     "execution_count": 65
    },
    {
     "data": {
      "text/plain": "<Figure size 432x288 with 2 Axes>",
      "image/png": "[encoded data removed]"
     },
     "metadata": {
      "needs_background": "light"
     },
     "output_type": "display_data"
    }
   ],
   "source": [
    "im = images[0]\n",
    "plt.imshow(im)\n",
    "plt.gca().invert_yaxis() \n",
    "plt.gca().invert_xaxis() \n",
    "plt.colorbar()\n"
   ],
   "metadata": {
    "collapsed": false,
    "pycharm": {
     "name": "#%%\n",
     "is_executing": false
    }
   }
  },
  {
   "cell_type": "code",
   "execution_count": null,
   "outputs": [],
   "source": [
    "shdom.save_dynamic_forward_model(output_dir, dynamic_medium, dynamic_solver, measurements)"
   ],
   "metadata": {
    "collapsed": false,
    "pycharm": {
     "name": "#%% save\n",
     "is_executing": true
    }
   }
  },
  {
   "cell_type": "code",
   "execution_count": null,
   "outputs": [],
   "source": [
    "a,b,c = shdom.load_dynamic_forward_model(output_dir)\n",
    "print()"
   ],
   "metadata": {
    "collapsed": false,
    "pycharm": {
     "name": "#%% \n",
     "is_executing": true
    }
   }
  }
 ],
 "metadata": {
  "kernelspec": {
   "display_name": "Python 3",
   "language": "python",
   "name": "python3"
  },
  "language_info": {
   "codemirror_mode": {
    "name": "ipython",
    "version": 2
   },
   "file_extension": ".py",
   "mimetype": "text/x-python",
   "name": "python",
   "nbconvert_exporter": "python",
   "pygments_lexer": "ipython2",
   "version": "2.7.6"
  },
  "pycharm": {
   "stem_cell": {
    "cell_type": "raw",
    "source": [],
    "metadata": {
     "collapsed": false
    }
   }
  }
 },
 "nbformat": 4,
 "nbformat_minor": 0
}