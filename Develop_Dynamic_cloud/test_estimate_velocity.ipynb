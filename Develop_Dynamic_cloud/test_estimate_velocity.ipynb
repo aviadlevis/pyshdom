{
 "cells": [
  {
   "cell_type": "code",
   "execution_count": 1,
   "outputs": [],
   "source": [
    "\"\"\"\n",
    "Imports necessary for this notebook\n",
    "\"\"\"\n",
    "import os \n",
    "import matplotlib.pyplot as plt\n",
    "import numpy as np\n",
    "import pandas as pd\n",
    "import scipy.io as sio\n",
    "import shdom\n",
    "from scipy.ndimage import center_of_mass"
   ],
   "metadata": {
    "collapsed": false,
    "pycharm": {
     "name": "#%%\n",
     "is_executing": false
    }
   }
  },
  {
   "cell_type": "code",
   "execution_count": 9,
   "outputs": [
    {
     "name": "stdout",
     "text": [
      "\n"
     ],
     "output_type": "stream"
    }
   ],
   "source": [
    "output_dir = 'experiments/rico52x57x26_velocity_4_3_9img_perspective/dynamic_medium'\n",
    "\n",
    "a,b,c = shdom.load_dynamic_forward_model(output_dir)\n",
    "print()\n",
    "time_list = c.time_list\n",
    "\n",
    "\n",
    "dv_x = 1.3\n",
    "dv_y = 3\n",
    "for medium, time in zip(a.dynamic_medium, time_list):\n",
    "    grid = medium.grid\n",
    "    # grid.x += 1e-3 * time * dv_x\n",
    "    dx = 1e-3 * time * dv_x\n",
    "    grid.x = np.linspace(grid.xmin + dx, grid.xmax + dx,grid.nx)\n",
    "    dy = 1e-3 * time * dv_y\n",
    "    grid.y = np.linspace(grid.ymin + dy,grid.ymax + dy,grid.ny)\n",
    "   \n",
    "    grid = medium.scatterers['cloud'].grid\n",
    "    # grid.x += 1e-3 * time * dv_x\n",
    "    dx = 1e-3 * time * dv_x\n",
    "    grid.x = np.linspace(grid.xmin + dx, grid.xmax + dx,grid.nx)\n",
    "    dy = 1e-3 * time * dv_y\n",
    "    grid.y = np.linspace(grid.ymin + dy,grid.ymax + dy,grid.ny)\n",
    "    \n",
    "    grid = medium.scatterers['cloud'].lwc.grid\n",
    "    # grid.x += 1e-3 * time * dv_x\n",
    "    dx = 1e-3 * time * dv_x\n",
    "    grid.x = np.linspace(grid.xmin + dx, grid.xmax + dx,grid.nx)\n",
    "    dy = 1e-3 * time * dv_y\n",
    "    grid.y = np.linspace(grid.ymin + dy,grid.ymax + dy,grid.ny)\n",
    "    \n",
    "gt_a,b,c = shdom.load_dynamic_forward_model(output_dir)"
   ],
   "metadata": {
    "collapsed": false,
    "pycharm": {
     "name": "#%% \n",
     "is_executing": false
    }
   }
  },
  {
   "cell_type": "code",
   "execution_count": 16,
   "outputs": [
    {
     "name": "stdout",
     "text": [
      "122279.48367072955\n",
      "193322.82600615607\n",
      "182150.64351216936\n",
      "150889.22826535392\n",
      "0.0\n",
      "151442.11343918854\n",
      "172913.11214416916\n",
      "135332.3610846013\n"
     ],
     "output_type": "stream"
    },
    {
     "traceback": [
      "\u001b[0;31m---------------------------------------------------------------------------\u001b[0m",
      "\u001b[0;31mAssertionError\u001b[0m                            Traceback (most recent call last)",
      "\u001b[0;32m<ipython-input-16-12fea9dbd3cf>\u001b[0m in \u001b[0;36m<module>\u001b[0;34m\u001b[0m\n\u001b[1;32m     10\u001b[0m \u001b[0;34m\u001b[0m\u001b[0m\n\u001b[1;32m     11\u001b[0m             grid = shdom.Grid(x=np.linspace(extinction.grid.xmin + shift[0], extinction.grid.xmax + shift[0],extinction.grid.nx),\n\u001b[0;32m---> 12\u001b[0;31m             y=np.linspace(extinction.grid.ymin + shift[1], extinction.grid.ymax + shift[1],extinction.grid.ny), z=extinction.grid.z)\n\u001b[0m\u001b[1;32m     13\u001b[0m             \u001b[0mgt_grid\u001b[0m \u001b[0;34m=\u001b[0m \u001b[0mgt_medium\u001b[0m\u001b[0;34m.\u001b[0m\u001b[0mscatterers\u001b[0m\u001b[0;34m[\u001b[0m\u001b[0;34m'cloud'\u001b[0m\u001b[0;34m]\u001b[0m\u001b[0;34m.\u001b[0m\u001b[0mgrid\u001b[0m\u001b[0;34m\u001b[0m\u001b[0;34m\u001b[0m\u001b[0m\n\u001b[1;32m     14\u001b[0m             \u001b[0mshifted_extinction\u001b[0m\u001b[0;34m.\u001b[0m\u001b[0mappend\u001b[0m\u001b[0;34m(\u001b[0m\u001b[0mextinction\u001b[0m\u001b[0;34m.\u001b[0m\u001b[0mresample\u001b[0m\u001b[0;34m(\u001b[0m\u001b[0mgrid\u001b[0m\u001b[0;34m)\u001b[0m\u001b[0;34m.\u001b[0m\u001b[0mdata\u001b[0m\u001b[0;34m)\u001b[0m\u001b[0;34m\u001b[0m\u001b[0;34m\u001b[0m\u001b[0m\n",
      "\u001b[0;32m~/pyshdom/shdom/__init__.py\u001b[0m in \u001b[0;36m__init__\u001b[0;34m(self, **kwargs)\u001b[0m\n\u001b[1;32m     92\u001b[0m             \u001b[0;32mif\u001b[0m \u001b[0;34m'x'\u001b[0m \u001b[0;32min\u001b[0m \u001b[0mkwargs\u001b[0m \u001b[0;32mand\u001b[0m \u001b[0;34m'y'\u001b[0m \u001b[0;32min\u001b[0m \u001b[0mkwargs\u001b[0m\u001b[0;34m:\u001b[0m\u001b[0;34m\u001b[0m\u001b[0;34m\u001b[0m\u001b[0m\n\u001b[1;32m     93\u001b[0m                 \u001b[0mself\u001b[0m\u001b[0;34m.\u001b[0m\u001b[0mx\u001b[0m \u001b[0;34m=\u001b[0m \u001b[0mkwargs\u001b[0m\u001b[0;34m[\u001b[0m\u001b[0;34m'x'\u001b[0m\u001b[0;34m]\u001b[0m\u001b[0;34m\u001b[0m\u001b[0;34m\u001b[0m\u001b[0m\n\u001b[0;32m---> 94\u001b[0;31m                 \u001b[0mself\u001b[0m\u001b[0;34m.\u001b[0m\u001b[0my\u001b[0m \u001b[0;34m=\u001b[0m \u001b[0mkwargs\u001b[0m\u001b[0;34m[\u001b[0m\u001b[0;34m'y'\u001b[0m\u001b[0;34m]\u001b[0m\u001b[0;34m\u001b[0m\u001b[0;34m\u001b[0m\u001b[0m\n\u001b[0m\u001b[1;32m     95\u001b[0m                 \u001b[0mself\u001b[0m\u001b[0;34m.\u001b[0m\u001b[0m_bounding_box\u001b[0m \u001b[0;34m=\u001b[0m \u001b[0mBoundingBox\u001b[0m\u001b[0;34m(\u001b[0m\u001b[0mself\u001b[0m\u001b[0;34m.\u001b[0m\u001b[0mxmin\u001b[0m\u001b[0;34m,\u001b[0m \u001b[0mself\u001b[0m\u001b[0;34m.\u001b[0m\u001b[0mymin\u001b[0m\u001b[0;34m,\u001b[0m \u001b[0mself\u001b[0m\u001b[0;34m.\u001b[0m\u001b[0mzmin\u001b[0m\u001b[0;34m,\u001b[0m \u001b[0mself\u001b[0m\u001b[0;34m.\u001b[0m\u001b[0mxmax\u001b[0m\u001b[0;34m,\u001b[0m \u001b[0mself\u001b[0m\u001b[0;34m.\u001b[0m\u001b[0mymax\u001b[0m\u001b[0;34m,\u001b[0m \u001b[0mself\u001b[0m\u001b[0;34m.\u001b[0m\u001b[0mzmax\u001b[0m\u001b[0;34m)\u001b[0m\u001b[0;34m\u001b[0m\u001b[0;34m\u001b[0m\u001b[0m\n\u001b[1;32m     96\u001b[0m             \u001b[0;32melse\u001b[0m\u001b[0;34m:\u001b[0m\u001b[0;34m\u001b[0m\u001b[0;34m\u001b[0m\u001b[0m\n",
      "\u001b[0;32m~/pyshdom/shdom/__init__.py\u001b[0m in \u001b[0;36my\u001b[0;34m(self, val)\u001b[0m\n\u001b[1;32m    313\u001b[0m         \u001b[0mval\u001b[0m \u001b[0;34m=\u001b[0m \u001b[0mnp\u001b[0m\u001b[0;34m.\u001b[0m\u001b[0marray\u001b[0m\u001b[0;34m(\u001b[0m\u001b[0mval\u001b[0m\u001b[0;34m,\u001b[0m \u001b[0mdtype\u001b[0m\u001b[0;34m=\u001b[0m\u001b[0mnp\u001b[0m\u001b[0;34m.\u001b[0m\u001b[0mfloat32\u001b[0m\u001b[0;34m)\u001b[0m\u001b[0;34m\u001b[0m\u001b[0;34m\u001b[0m\u001b[0m\n\u001b[1;32m    314\u001b[0m         \u001b[0mspacing\u001b[0m \u001b[0;34m=\u001b[0m \u001b[0mnp\u001b[0m\u001b[0;34m.\u001b[0m\u001b[0mdiff\u001b[0m\u001b[0;34m(\u001b[0m\u001b[0mval\u001b[0m\u001b[0;34m)\u001b[0m\u001b[0;34m\u001b[0m\u001b[0;34m\u001b[0m\u001b[0m\n\u001b[0;32m--> 315\u001b[0;31m         \u001b[0;32massert\u001b[0m \u001b[0mnp\u001b[0m\u001b[0;34m.\u001b[0m\u001b[0mall\u001b[0m\u001b[0;34m(\u001b[0m\u001b[0mnp\u001b[0m\u001b[0;34m.\u001b[0m\u001b[0misclose\u001b[0m\u001b[0;34m(\u001b[0m\u001b[0mspacing\u001b[0m\u001b[0;34m,\u001b[0m \u001b[0mspacing\u001b[0m\u001b[0;34m[\u001b[0m\u001b[0;36m0\u001b[0m\u001b[0;34m]\u001b[0m\u001b[0;34m)\u001b[0m\u001b[0;34m)\u001b[0m\u001b[0;34m,\u001b[0m \u001b[0;34m'y grid supoprt equally spacing only'\u001b[0m\u001b[0;34m\u001b[0m\u001b[0;34m\u001b[0m\u001b[0m\n\u001b[0m\u001b[1;32m    316\u001b[0m         \u001b[0mself\u001b[0m\u001b[0;34m.\u001b[0m\u001b[0m_y\u001b[0m \u001b[0;34m=\u001b[0m \u001b[0mval\u001b[0m\u001b[0;34m\u001b[0m\u001b[0;34m\u001b[0m\u001b[0m\n\u001b[1;32m    317\u001b[0m         \u001b[0mself\u001b[0m\u001b[0;34m.\u001b[0m\u001b[0m_dy\u001b[0m \u001b[0;34m=\u001b[0m \u001b[0mspacing\u001b[0m\u001b[0;34m[\u001b[0m\u001b[0;36m0\u001b[0m\u001b[0;34m]\u001b[0m\u001b[0;34m\u001b[0m\u001b[0;34m\u001b[0m\u001b[0m\n",
      "\u001b[0;31mAssertionError\u001b[0m: y grid supoprt equally spacing only"
     ],
     "ename": "AssertionError",
     "evalue": "y grid supoprt equally spacing only",
     "output_type": "error"
    }
   ],
   "source": [
    "min_err = np.inf\n",
    "# for dv_x in np.arange(-1.5,1.7,0.2):\n",
    "#     for dv_y in np.arange(-3.5,3.8,0.3):\n",
    "for dv_x in [1.3]:\n",
    "    for dv_y in [3]:\n",
    "        shifted_extinction = []\n",
    "        for medium, time, gt_medium in zip(a.dynamic_medium,time_list,gt_a):\n",
    "            extinction = medium.scatterers['cloud'].get_extinction(a.wavelength)\n",
    "            shift = 1e-3 * time * np.array([dv_x, dv_y, 0])  # km\n",
    "            \n",
    "            grid = shdom.Grid(x=np.linspace(extinction.grid.xmin + shift[0], extinction.grid.xmax + shift[0],extinction.grid.nx),\n",
    "            y=np.linspace(extinction.grid.ymin + shift[1], extinction.grid.ymax + shift[1],extinction.grid.ny), z=extinction.grid.z)\n",
    "            gt_grid = gt_medium.scatterers['cloud'].grid\n",
    "            shifted_extinction.append(extinction.resample(grid).data)\n",
    "            gt_ext = gt_medium.scatterers['cloud'].get_extinction(a.wavelength)\n",
    "            err_gt = np.linalg.norm((shifted_extinction[-1]-gt_ext.data).reshape(-1,1),ord=1)\n",
    "            print(np.linalg.norm(err_gt))\n",
    "        # shifted_extinction = np.stack(shifted_extinction, axis=3)\n",
    "        err = 0\n",
    "        for extinction_i in shifted_extinction:\n",
    "            for extinction_j in shifted_extinction:\n",
    "                err += np.linalg.norm((extinction_i-extinction_j).reshape(-1,1),ord=1)\n",
    "        if err < min_err:\n",
    "            min_err = err\n",
    "            dv = [dv_x, dv_y, 0]\n",
    "            "
   ],
   "metadata": {
    "collapsed": false,
    "pycharm": {
     "name": "#%%\n",
     "is_executing": false
    }
   }
  },
  {
   "cell_type": "code",
   "execution_count": null,
   "outputs": [],
   "source": [
    "self._scatterer_velocity = [x - y for x, y in zip(self._scatterer_velocity, dv)]\n",
    "for medium_estimator, time in zip(self._dynamic_medium_estimator, self._time_list):\n",
    "    grid = medium_estimator.estimators['cloud'].extinction.grid\n",
    "    grid.x -= 1e-3 *dv[0]*time\n",
    "    grid.y -= 1e-3 *dv[1]*time\n",
    "    grid = medium_estimator.grid\n",
    "    grid.x -= 1e-3 *dv[0]*time\n",
    "    grid.y -= 1e-3 *dv[1]*time\n",
    "return dv"
   ],
   "metadata": {
    "collapsed": false,
    "pycharm": {
     "name": "#%%\n"
    }
   }
  },
  {
   "cell_type": "code",
   "execution_count": null,
   "outputs": [],
   "source": [
    "%matplotlib inline\n",
    "f, axarr = plt.subplots(1, len(images), figsize=(20, 20))\n",
    "for ax, image in zip(axarr, images):\n",
    "    ax.imshow(image)\n",
    "    ax.invert_xaxis() \n",
    "    ax.invert_yaxis() \n",
    "    ax.axis('off')"
   ],
   "metadata": {
    "collapsed": false,
    "pycharm": {
     "name": "#%%\n"
    }
   }
  },
  {
   "cell_type": "code",
   "execution_count": 8,
   "outputs": [
    {
     "data": {
      "text/plain": "<matplotlib.colorbar.Colorbar at 0x7f0b2435ce10>"
     },
     "metadata": {},
     "output_type": "execute_result",
     "execution_count": 8
    },
    {
     "data": {
      "text/plain": "<Figure size 432x288 with 2 Axes>",
      "image/png": "[encoded data removed]"
     },
     "metadata": {
      "needs_background": "light"
     },
     "output_type": "display_data"
    }
   ],
   "source": [
    "im = images[0]\n",
    "plt.imshow(im)\n",
    "plt.gca().invert_yaxis() \n",
    "plt.gca().invert_xaxis() \n",
    "plt.colorbar()\n"
   ],
   "metadata": {
    "collapsed": false,
    "pycharm": {
     "name": "#%%\n",
     "is_executing": false
    }
   }
  },
  {
   "cell_type": "code",
   "execution_count": 9,
   "outputs": [],
   "source": [
    "shdom.save_dynamic_forward_model(output_dir, dynamic_medium, dynamic_solver, measurements)\n",
    "\n"
   ],
   "metadata": {
    "collapsed": false,
    "pycharm": {
     "name": "#%% save\n",
     "is_executing": false
    }
   }
  }
 ],
 "metadata": {
  "kernelspec": {
   "display_name": "Python 3",
   "language": "python",
   "name": "python3"
  },
  "language_info": {
   "codemirror_mode": {
    "name": "ipython",
    "version": 2
   },
   "file_extension": ".py",
   "mimetype": "text/x-python",
   "name": "python",
   "nbconvert_exporter": "python",
   "pygments_lexer": "ipython2",
   "version": "2.7.6"
  },
  "pycharm": {
   "stem_cell": {
    "cell_type": "raw",
    "source": [],
    "metadata": {
     "collapsed": false
    }
   }
  }
 },
 "nbformat": 4,
 "nbformat_minor": 0
}