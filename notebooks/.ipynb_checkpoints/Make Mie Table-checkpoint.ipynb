{
 "cells": [
  {
   "cell_type": "markdown",
   "metadata": {},
   "source": [
    "# Creating a Mie Scattering Table\n",
    "\n",
    "This notebook demonstrates how to create a Mie scattering table. Source code resides in: src/unpolarized/make_mie_table.f90. \n",
    "\n",
    "The source Fortran code was created by Frank Evans and it is part of the SHDOM package: http://nit.colorado.edu/shdom.html\n",
    "\n",
    "The python wrapper was created by Aviad Levis, Technion inst. of Technology 2019: https://github.com/aviadlevis/pyshdom"
   ]
  },
  {
   "cell_type": "code",
   "execution_count": 2,
   "metadata": {
    "ExecuteTime": {
     "end_time": "2019-05-21T08:02:11.414663Z",
     "start_time": "2019-05-21T08:02:11.410604Z"
    },
    "init_cell": true,
    "pycharm": {
     "is_executing": false
    }
   },
   "outputs": [],
   "source": [
    "\"\"\"\n",
    "Imports necessary for this notebook\n",
    "\"\"\"\n",
    "import os \n",
    "import numpy as np\n",
    "import matplotlib.pyplot as plt\n",
    "import shdom"
   ]
  },
  {
   "cell_type": "code",
   "execution_count": 3,
   "metadata": {
    "ExecuteTime": {
     "end_time": "2019-05-21T08:02:21.129346Z",
     "start_time": "2019-05-21T08:02:11.416633Z"
    },
    "pycharm": {
     "is_executing": false
    }
   },
   "outputs": [],
   "source": [
    "\"\"\"\n",
    "Create a monodisperse Mie scattering table for a set wavelength as a function of radius.\n",
    "This table can be integrated for Polydisperse Mie scattering as a function of the size-distribution parameters.\n",
    "\n",
    "Note: \n",
    "Running this cell for max_integration_radius=65 takes ~15secs\n",
    "\"\"\"\n",
    "mie_mono = shdom.MieMonodisperse(particle_type='Water')\n",
    "mie_mono.set_wavelength_integration(wavelength_band=(0.672, 0.672))   \n",
    "mie_mono.set_radius_integration(minimum_effective_radius=1.0, max_integration_radius=65)\n",
    "\n",
    "mie_mono.compute_table()"
   ]
  },
  {
   "cell_type": "code",
   "execution_count": 4,
   "metadata": {
    "ExecuteTime": {
     "end_time": "2019-05-21T08:02:21.779993Z",
     "start_time": "2019-05-21T08:02:21.131993Z"
    },
    "pycharm": {
     "is_executing": false
    }
   },
   "outputs": [
    {
     "name": "stdout",
     "output_type": "stream",
     "text": [
      "Writing Mie monodisperse table to file: ../mie_tables/monodisperse/Water_672nm.scat\n"
     ]
    }
   ],
   "source": [
    "\"\"\" \n",
    "Create a directory (if doesnt exist) and write the Mie table, that was created \n",
    "in the previous cell, for for later use.\n",
    "\"\"\"\n",
    "directory = '../mie_tables/monodisperse/'\n",
    "\n",
    "# safe creation of the directory\n",
    "if not os.path.exists(directory):\n",
    "    os.makedirs(directory)\n",
    "output_path = os.path.join(directory, 'Water_672nm.scat')\n",
    "    \n",
    "mie_mono.write_table(output_path)"
   ]
  },
  {
   "cell_type": "code",
   "execution_count": null,
   "metadata": {
    "ExecuteTime": {
     "end_time": "2019-05-21T08:02:22.666635Z",
     "start_time": "2019-05-21T08:02:21.782204Z"
    },
    "pycharm": {
     "is_executing": true
    }
   },
   "outputs": [],
   "source": [
    "\"\"\"\n",
    "Compute a size distribution and plot for several size distribution parameters\n",
    "\"\"\"\n",
    "size_distribution = shdom.SizeDistribution(type='gamma')\n",
    "size_distribution.set_parameters(reff=np.linspace(1.0, 40.0, 20), veff=np.linspace(0.005, 0.9, 20))\n",
    "size_distribution.compute_nd(radii=mie_mono.radii, particle_density=mie_mono.pardens)\n",
    "\n",
    "%matplotlib inline\n",
    "radii = size_distribution.radii[:1000]\n",
    "\n",
    "f, (ax1, ax2) = plt.subplots(1, 2, figsize=(15, 5))\n",
    "\n",
    "reff = [8.0, 12.0, 16.0]\n",
    "size_dist = size_distribution.get_nd(reff=reff, veff=0.1)[:1000]\n",
    "ax1.plot(radii, size_dist)\n",
    "ax1.legend(reff)\n",
    "ax1.set_title('Size distribution for different effective radii [micron]', fontsize=14)\n",
    "ax1.set_xlabel('radius [micron]', fontsize=12)\n",
    "\n",
    "veff = [0.01, 0.1, 0.2]\n",
    "size_dist = size_distribution.get_nd(reff=10.0, veff=veff)[:1000]\n",
    "ax2.plot(radii, size_dist)\n",
    "ax2.legend(veff)\n",
    "ax2.set_title('Size distribution for different effective variances', fontsize=14)\n",
    "ax2.set_xlabel('radius [micron]', fontsize=12)"
   ]
  },
  {
   "cell_type": "code",
   "execution_count": null,
   "metadata": {
    "ExecuteTime": {
     "end_time": "2019-05-21T08:02:24.775785Z",
     "start_time": "2019-05-21T08:02:22.668745Z"
    },
    "pycharm": {
     "is_executing": true
    },
    "scrolled": true
   },
   "outputs": [],
   "source": [
    "\"\"\"\n",
    "Compute Polydisperse scattering for multiple size-distributions and save a polydisperse table\n",
    "\"\"\"\n",
    "mie_poly = shdom.MiePolydisperse(\n",
    "    mono_disperse=mie_mono, \n",
    "    size_distribution=size_distribution\n",
    ")\n",
    "mie_poly.compute_table()\n",
    "\n",
    "plot_re = 11.0\n",
    "plot_ve = 0.1\n",
    "angles = np.linspace(0,180, 360)\n",
    "\n",
    "%matplotlib inline\n",
    "f, (ax1, ax2) = plt.subplots(1, 2, figsize=(15,5));\n",
    "ax1.semilogy(angles, mie_poly.get_angular_scattering(plot_re, plot_ve, angles), 'r')\n",
    "ax1.set_title('Phase function (log) for reff={:2.1f} micron ; veff={:1.2}'.format(plot_re, plot_ve),);\n",
    "ax2.plot(mie_poly.get_legendre(plot_re, plot_ve))\n",
    "ax2.set_title('Legendre coefficients for reff={:2.1f} ; veff={:1.2}'.format(plot_re, plot_ve));"
   ]
  },
  {
   "cell_type": "code",
   "execution_count": null,
   "metadata": {
    "ExecuteTime": {
     "end_time": "2019-05-21T08:02:25.794057Z",
     "start_time": "2019-05-21T08:02:24.778308Z"
    },
    "pycharm": {
     "is_executing": true
    }
   },
   "outputs": [],
   "source": [
    "\"\"\" \n",
    "Create a directory (if doesnt exist) and write the Mie table, that was created \n",
    "in the previous cell, for for later use.\n",
    "\"\"\"\n",
    "directory = '../mie_tables/polydisperse/' \n",
    "\n",
    "# safe creation of the directory\n",
    "if not os.path.exists(directory):\n",
    "    os.makedirs(directory)\n",
    "output_path = os.path.join(directory, 'Water_672nm.scat')\n",
    "    \n",
    "mie_poly.write_table(output_path)"
   ]
  }
 ],
 "metadata": {
  "celltoolbar": "Initialization Cell",
  "kernelspec": {
   "display_name": "Python 3",
   "language": "python",
   "name": "python3"
  },
  "language_info": {
   "codemirror_mode": {
    "name": "ipython",
    "version": 3
   },
   "file_extension": ".py",
   "mimetype": "text/x-python",
   "name": "python",
   "nbconvert_exporter": "python",
   "pygments_lexer": "ipython3",
   "version": "3.7.6"
  },
  "latex_envs": {
   "LaTeX_envs_menu_present": true,
   "autoclose": false,
   "autocomplete": true,
   "bibliofile": "biblio.bib",
   "cite_by": "apalike",
   "current_citInitial": 1,
   "eqLabelWithNumbers": true,
   "eqNumInitial": 1,
   "hotkeys": {
    "equation": "Ctrl-E",
    "itemize": "Ctrl-I"
   },
   "labels_anchors": false,
   "latex_user_defs": false,
   "report_style_numbering": false,
   "user_envs_cfg": false
  },
  "pycharm": {
   "stem_cell": {
    "cell_type": "raw",
    "metadata": {
     "collapsed": false
    },
    "source": []
   }
  },
  "varInspector": {
   "cols": {
    "lenName": 16,
    "lenType": 16,
    "lenVar": 40
   },
   "kernels_config": {
    "python": {
     "delete_cmd_postfix": "",
     "delete_cmd_prefix": "del ",
     "library": "var_list.py",
     "varRefreshCmd": "print(var_dic_list())"
    },
    "r": {
     "delete_cmd_postfix": ") ",
     "delete_cmd_prefix": "rm(",
     "library": "var_list.r",
     "varRefreshCmd": "cat(var_dic_list()) "
    }
   },
   "types_to_exclude": [
    "module",
    "function",
    "builtin_function_or_method",
    "instance",
    "_Feature"
   ],
   "window_display": false
  }
 },
 "nbformat": 4,
 "nbformat_minor": 1
}
